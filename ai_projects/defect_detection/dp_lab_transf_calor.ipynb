{
 "cells": [
  {
   "cell_type": "code",
   "execution_count": 6,
   "metadata": {},
   "outputs": [],
   "source": [
    "import tensorflow as tf\n",
    "import cv2\n",
    "import numpy as np\n",
    "import os"
   ]
  },
  {
   "cell_type": "code",
   "execution_count": 15,
   "metadata": {},
   "outputs": [],
   "source": [
    "# Specify the folder with the images to be augmented\n",
    "folder_path = \"thermo_db_pictures/false/\"\n",
    "save_path = \"augment_data/\"\n",
    "\n",
    "# Perform augmentation for each image in the folder\n",
    "for filename in os.listdir(folder_path):\n",
    "    if filename.endswith(\".jpg\") or filename.endswith(\".png\"):\n",
    "        # Load image\n",
    "        img_path = os.path.join(folder_path, filename)\n",
    "        img = cv2.imread(img_path)\n",
    "        \n",
    "        # Apply augmentation techniques to create new images\n",
    "        flipped_img = cv2.flip(img, 1)\n",
    "        rotated_img = cv2.rotate(img, cv2.ROTATE_90_CLOCKWISE)\n",
    "        gaussian_blur_img = cv2.GaussianBlur(img, (5,5), 0)\n",
    "        gray_img = cv2.cvtColor(img, cv2.COLOR_BGR2GRAY )\n",
    "        color_img = cv2.cvtColor(img, cv2.COLOR_BGR2HSV )\n",
    "        \n",
    "        # Save new images\n",
    "        new_filename_1 = \"flipped_\" + filename\n",
    "        new_filename_2 = \"rotated_\" + filename\n",
    "        new_filename_3 = \"blurred_\" + filename\n",
    "        new_filename_4 = \"grayed_\" + filename\n",
    "        new_filename_5 = \"colored_\" + filename\n",
    "\n",
    "        \n",
    "        new_img_path_1 = os.path.join(save_path, new_filename_1)\n",
    "        new_img_path_2 = os.path.join(save_path, new_filename_2)\n",
    "        new_img_path_3 = os.path.join(save_path, new_filename_3)\n",
    "        new_img_path_4 = os.path.join(save_path, new_filename_4)\n",
    "        new_img_path_5 = os.path.join(save_path, new_filename_5)\n",
    "        \n",
    "        cv2.imwrite(new_img_path_1, flipped_img)\n",
    "        cv2.imwrite(new_img_path_2, rotated_img)\n",
    "        cv2.imwrite(new_img_path_3, gaussian_blur_img)\n",
    "        cv2.imwrite(new_img_path_4, gray_img)\n",
    "        cv2.imwrite(new_img_path_5, color_img)"
   ]
  },
  {
   "cell_type": "code",
   "execution_count": null,
   "metadata": {},
   "outputs": [],
   "source": []
  }
 ],
 "metadata": {
  "kernelspec": {
   "display_name": "Python 3",
   "language": "python",
   "name": "python3"
  },
  "language_info": {
   "codemirror_mode": {
    "name": "ipython",
    "version": 3
   },
   "file_extension": ".py",
   "mimetype": "text/x-python",
   "name": "python",
   "nbconvert_exporter": "python",
   "pygments_lexer": "ipython3",
   "version": "3.10.12"
  }
 },
 "nbformat": 4,
 "nbformat_minor": 2
}
